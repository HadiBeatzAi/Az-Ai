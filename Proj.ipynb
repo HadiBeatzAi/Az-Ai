{
 "cells": [
  {
   "cell_type": "code",
   "execution_count": 3,
   "id": "f16ade90-5636-46a4-a0f1-f22de662aff2",
   "metadata": {
    "tags": []
   },
   "outputs": [],
   "source": [
    "import numpy as np\n",
    "from sklearn.model_selection import train_test_split\n",
    "from sklearn.preprocessing import MinMaxScaler\n",
    "from sklearn.neighbors import KNeighborsClassifier\n",
    "from sklearn.metrics import confusion_matrix,accuracy_score\n",
    "from sklearn.datasets import make_classification\n",
    "from sklearn.tree import DecisionTreeClassifier"
   ]
  },
  {
   "cell_type": "code",
   "execution_count": 2,
   "id": "f0ae4d9b-a682-403b-8c4a-023af35c0997",
   "metadata": {
    "tags": []
   },
   "outputs": [
    {
     "name": "stdout",
     "output_type": "stream",
     "text": [
      "[[0.90832452 0.69876507 0.94918325 0.63208799 0.08554456 0.44645727\n",
      "  0.53088615 0.67571603 0.93408045 0.69079866]\n",
      " [0.20721499 0.24514417 0.64085361 0.25420394 0.0857561  0.09293282\n",
      "  0.22310998 0.57090026 0.77761477 0.72689162]\n",
      " [0.78733087 0.28677543 0.52687336 0.79289859 0.79682651 0.21969969\n",
      "  0.24149837 0.61510723 0.77650337 0.1981308 ]\n",
      " [0.98763144 0.93187411 0.81181592 0.21459105 0.28403272 0.01699659\n",
      "  0.14372614 0.06541052 0.61625036 0.25273881]\n",
      " [0.28007115 0.01559343 0.07434854 0.57686262 0.59376553 0.86399648\n",
      "  0.27666101 0.20171362 0.85476464 0.95799005]\n",
      " [0.63160315 0.9788547  0.38662602 0.38877938 0.61499002 0.62738351\n",
      "  0.28104386 0.96179568 0.18923596 0.1293748 ]\n",
      " [0.02864676 0.57370102 0.78750521 0.69166135 0.22263923 0.8323202\n",
      "  0.02073601 0.54612925 0.40944858 0.62017488]\n",
      " [0.76905868 0.6950206  0.28509119 0.04998787 0.69952307 0.97580132\n",
      "  0.45585064 0.96412201 0.5126082  0.56598931]\n",
      " [0.40549848 0.18524359 0.86308195 0.43559542 0.62324072 0.3377047\n",
      "  0.7256121  0.62147936 0.89423804 0.85351488]\n",
      " [0.13935981 0.49776003 0.36771867 0.02221799 0.53072413 0.91489182\n",
      "  0.4222436  0.31674607 0.4715423  0.85327231]\n",
      " [0.17151837 0.8827271  0.6347144  0.41588042 0.59077897 0.54213268\n",
      "  0.98967853 0.89942835 0.98935126 0.45428158]\n",
      " [0.10670904 0.95431567 0.62145086 0.66252576 0.66672343 0.03120355\n",
      "  0.94485772 0.12971671 0.27168373 0.63751322]\n",
      " [0.85188869 0.76459659 0.0323419  0.44599037 0.60986403 0.59478949\n",
      "  0.88124877 0.26279372 0.01837593 0.39249073]\n",
      " [0.65061079 0.16146269 0.0258691  0.58201546 0.61641221 0.25073806\n",
      "  0.48175953 0.14443961 0.76023736 0.78360079]\n",
      " [0.77243338 0.56401621 0.62065331 0.71615167 0.10859885 0.29619116\n",
      "  0.9436467  0.92184544 0.83609644 0.318625  ]\n",
      " [0.33619089 0.00251442 0.92244989 0.61296305 0.31915233 0.76696901\n",
      "  0.28641121 0.13614792 0.52941793 0.29640314]\n",
      " [0.23210862 0.58584423 0.48920115 0.50038461 0.39096172 0.04839721\n",
      "  0.1455952  0.55477006 0.58842276 0.69966845]\n",
      " [0.34340323 0.06450017 0.92255853 0.57797615 0.26609199 0.25420735\n",
      "  0.1571614  0.49908322 0.6676171  0.15314851]\n",
      " [0.05101925 0.26724054 0.57309168 0.90631499 0.39395372 0.7599505\n",
      "  0.19514896 0.63699285 0.54027065 0.58303934]\n",
      " [0.27648696 0.10741468 0.80210991 0.09739367 0.11944478 0.73198693\n",
      "  0.08724219 0.31464803 0.14321947 0.87571497]\n",
      " [0.72002239 0.56583107 0.95478831 0.02590027 0.43350343 0.99964468\n",
      "  0.39715006 0.89415926 0.94027253 0.61102174]\n",
      " [0.90146208 0.95582073 0.23959994 0.983029   0.62478105 0.75310432\n",
      "  0.04401735 0.59861797 0.70401915 0.04046848]\n",
      " [0.50349795 0.45202184 0.07514461 0.87074165 0.73636157 0.93863387\n",
      "  0.82054452 0.15834286 0.00369996 0.17073974]\n",
      " [0.07656376 0.38067104 0.06046813 0.31305954 0.33841974 0.32200669\n",
      "  0.6375681  0.6745509  0.43591592 0.53136348]\n",
      " [0.5841097  0.78545775 0.29056273 0.41856712 0.48570128 0.64422603\n",
      "  0.37407253 0.88196749 0.23409584 0.44573924]\n",
      " [0.00552758 0.38502903 0.95878906 0.06181392 0.11199554 0.28274259\n",
      "  0.80606396 0.36115565 0.04144481 0.3179741 ]\n",
      " [0.4597402  0.30137222 0.56736892 0.25128864 0.57350526 0.23323642\n",
      "  0.3762178  0.47113939 0.92196264 0.28223509]\n",
      " [0.70154999 0.16128034 0.5797684  0.27755195 0.63471573 0.1538625\n",
      "  0.70058197 0.70172201 0.30387839 0.09583783]\n",
      " [0.5698759  0.73413135 0.67947249 0.90735138 0.20598158 0.53550566\n",
      "  0.34419731 0.0080113  0.44078713 0.51796044]\n",
      " [0.86951755 0.98900825 0.69969126 0.59827717 0.79744802 0.58785518\n",
      "  0.54430605 0.65077449 0.70899374 0.32775494]\n",
      " [0.71252207 0.73208063 0.45850771 0.44265957 0.65968064 0.07414172\n",
      "  0.59691253 0.41490322 0.12485796 0.30401856]\n",
      " [0.13853495 0.05024758 0.49410239 0.77945199 0.43159742 0.24406385\n",
      "  0.84895011 0.10866538 0.90712371 0.89328496]\n",
      " [0.73300433 0.15633794 0.8394472  0.38217014 0.09174847 0.7192054\n",
      "  0.72946729 0.58062091 0.45083358 0.05870574]\n",
      " [0.22772629 0.62620009 0.26586945 0.40560485 0.08539696 0.67069338\n",
      "  0.90087593 0.33079733 0.19062591 0.25278077]\n",
      " [0.0223308  0.07846435 0.73475796 0.2545718  0.13038604 0.99285904\n",
      "  0.28584456 0.15465064 0.33247481 0.07351083]\n",
      " [0.20051014 0.73333197 0.41695898 0.56142488 0.07257466 0.31293316\n",
      "  0.90185388 0.81526752 0.58819138 0.46664168]\n",
      " [0.52542514 0.50090884 0.38248709 0.63055208 0.30176228 0.00927323\n",
      "  0.96633842 0.92705031 0.25334898 0.17041361]\n",
      " [0.75753726 0.03486424 0.70588714 0.41860055 0.14199959 0.32434964\n",
      "  0.83468172 0.14103248 0.30447559 0.91622267]\n",
      " [0.42559674 0.17555662 0.33801559 0.36205991 0.11297925 0.36728508\n",
      "  0.03094285 0.806527   0.85368632 0.26056516]\n",
      " [0.34070711 0.04886344 0.85875648 0.38447281 0.08376372 0.03015731\n",
      "  0.30563014 0.31340474 0.62082009 0.53835552]\n",
      " [0.85676934 0.99597119 0.12249113 0.17178578 0.34623752 0.75720733\n",
      "  0.08934254 0.94809259 0.44207613 0.88640451]\n",
      " [0.26088043 0.45208895 0.20758754 0.8497093  0.63760627 0.26826677\n",
      "  0.32413077 0.63830642 0.91670583 0.33084354]\n",
      " [0.23139266 0.19468831 0.63170745 0.68065928 0.56373485 0.35049988\n",
      "  0.4204845  0.99298564 0.97154285 0.26168223]\n",
      " [0.78121728 0.69553096 0.81257142 0.52004746 0.49913701 0.73170437\n",
      "  0.45249935 0.66972462 0.00726402 0.17230208]\n",
      " [0.32908227 0.20530523 0.74388667 0.38374339 0.41575224 0.80731123\n",
      "  0.46890599 0.48581428 0.13316598 0.93242272]\n",
      " [0.23255765 0.39467304 0.73466725 0.93059476 0.64079706 0.3632094\n",
      "  0.89224967 0.78594359 0.85397869 0.43413465]\n",
      " [0.64500962 0.49744909 0.35843358 0.68839866 0.66863801 0.07269889\n",
      "  0.69401574 0.22141966 0.78056462 0.36492905]\n",
      " [0.26178367 0.88106842 0.27205675 0.35263317 0.28186999 0.59779209\n",
      "  0.21896237 0.78631727 0.37043549 0.90796689]\n",
      " [0.4970611  0.98242682 0.37951014 0.69614296 0.4396468  0.79960403\n",
      "  0.65511007 0.62582    0.92248859 0.23568854]\n",
      " [0.66400052 0.37518227 0.723856   0.07990342 0.72466187 0.43224894\n",
      "  0.20817462 0.28156715 0.58167829 0.59044443]]\n"
     ]
    }
   ],
   "source": [
    "X_data= np.random.rand(50,10)\n",
    "print(X_data)"
   ]
  },
  {
   "cell_type": "code",
   "execution_count": 3,
   "id": "7e80cb69-ea97-4d87-a4f3-fd6c91600a89",
   "metadata": {
    "tags": []
   },
   "outputs": [
    {
     "name": "stdout",
     "output_type": "stream",
     "text": [
      "[0 0 1 1 0 0 0 1 0 1 0 0 0 0 1 1 1 1 1 1 1 1 1 0 1 1 1 0 0 1 1 1 1 1 1 1 1\n",
      " 0 0 0 0 1 0 0 0 0 0 0 1 0]\n"
     ]
    }
   ],
   "source": [
    "y_labels= np.random.randint(0,2,50)\n",
    "print(y_labels)"
   ]
  },
  {
   "cell_type": "code",
   "execution_count": 4,
   "id": "f2801b5f-e298-4e9c-a73e-0e6af2ec7612",
   "metadata": {
    "tags": []
   },
   "outputs": [],
   "source": [
    "scaler= MinMaxScaler()\n",
    "X_data_normalized = scaler.fit_transform(X_data)"
   ]
  },
  {
   "cell_type": "code",
   "execution_count": 5,
   "id": "5f84db5c-3b54-44c0-b67e-74326e26dc99",
   "metadata": {
    "tags": []
   },
   "outputs": [],
   "source": [
    "X_train,X_test,y_train,y_test=train_test_split(X_data_normalized,y_labels,test_size=0.3,random_state=42)"
   ]
  },
  {
   "cell_type": "code",
   "execution_count": 6,
   "id": "bc917443-2ec6-4963-92db-edef0e2d6ee0",
   "metadata": {
    "tags": []
   },
   "outputs": [
    {
     "data": {
      "text/plain": [
       "KNeighborsClassifier(n_neighbors=3)"
      ]
     },
     "execution_count": 6,
     "metadata": {},
     "output_type": "execute_result"
    }
   ],
   "source": [
    "knn=KNeighborsClassifier(n_neighbors=3)\n",
    "knn.fit(X_train,y_train)"
   ]
  },
  {
   "cell_type": "code",
   "execution_count": 7,
   "id": "24239d20-c6fc-488c-b5a9-18fa9d81409b",
   "metadata": {
    "tags": []
   },
   "outputs": [
    {
     "name": "stdout",
     "output_type": "stream",
     "text": [
      "[1 1 0 0 0 1 0 1 1 0 1 1 0 0 0]\n"
     ]
    }
   ],
   "source": [
    "y_pred=knn.predict(X_test)\n",
    "print(y_pred)"
   ]
  },
  {
   "cell_type": "code",
   "execution_count": 27,
   "id": "480937df-0b39-4163-8dd4-97da97333766",
   "metadata": {
    "tags": []
   },
   "outputs": [
    {
     "name": "stdout",
     "output_type": "stream",
     "text": [
      "[[3 4]\n",
      " [5 3]]\n"
     ]
    }
   ],
   "source": [
    "cm2=confusion_matrix(y_test,y_pred)\n",
    "print(cm2)"
   ]
  },
  {
   "cell_type": "code",
   "execution_count": 9,
   "id": "e4d4e38d-cb36-470b-a57d-ae6fec253e24",
   "metadata": {
    "tags": []
   },
   "outputs": [
    {
     "name": "stdout",
     "output_type": "stream",
     "text": [
      "0.4\n"
     ]
    }
   ],
   "source": [
    "accuracy=accuracy_score(y_test,y_pred)\n",
    "print(accuracy)"
   ]
  },
  {
   "cell_type": "code",
   "execution_count": 20,
   "id": "a3e317fa-cbe3-40bb-bb6d-d98ac390265e",
   "metadata": {
    "tags": []
   },
   "outputs": [
    {
     "data": {
      "text/plain": [
       "DecisionTreeClassifier(random_state=42)"
      ]
     },
     "execution_count": 20,
     "metadata": {},
     "output_type": "execute_result"
    }
   ],
   "source": [
    "dt_classifier=DecisionTreeClassifier(random_state=42)\n",
    "dt_classifier.fit(X_train,y_train)"
   ]
  },
  {
   "cell_type": "code",
   "execution_count": 21,
   "id": "da0647be-2162-4e44-8392-a2e300703d00",
   "metadata": {
    "tags": []
   },
   "outputs": [
    {
     "name": "stdout",
     "output_type": "stream",
     "text": [
      "[1 0 1 0 1 1 0 0 0 0 1 1 1 0 0]\n"
     ]
    }
   ],
   "source": [
    "y_pred2=dt_classifier.predict(X_test)\n",
    "print(y_pred2)"
   ]
  },
  {
   "cell_type": "code",
   "execution_count": 28,
   "id": "cc23a888-832d-4b7a-a511-c870872e0751",
   "metadata": {
    "tags": []
   },
   "outputs": [
    {
     "name": "stdout",
     "output_type": "stream",
     "text": [
      "[[3 4]\n",
      " [5 3]]\n"
     ]
    }
   ],
   "source": [
    "cm=confusion_matrix(y_test,y_pred2)\n",
    "print(cm)"
   ]
  },
  {
   "cell_type": "code",
   "execution_count": 26,
   "id": "fcd2ac27-bd31-4a03-a282-3d219152f701",
   "metadata": {
    "tags": []
   },
   "outputs": [
    {
     "name": "stdout",
     "output_type": "stream",
     "text": [
      "0.4\n"
     ]
    }
   ],
   "source": [
    "accuracy2=accuracy_score(y_test,y_pred2)\n",
    "print(accuracy2)"
   ]
  },
  {
   "cell_type": "code",
   "execution_count": null,
   "id": "2423febf-4d87-4728-9b72-8dc242930f31",
   "metadata": {},
   "outputs": [],
   "source": []
  },
  {
   "cell_type": "code",
   "execution_count": null,
   "id": "3f5792a7-a6d8-475a-88af-e1ba712b6703",
   "metadata": {},
   "outputs": [],
   "source": []
  },
  {
   "cell_type": "code",
   "execution_count": null,
   "id": "6394f31d-26d0-42dd-a5c5-830b29af8ee6",
   "metadata": {},
   "outputs": [],
   "source": []
  },
  {
   "cell_type": "code",
   "execution_count": 31,
   "id": "61215134-a5cf-4e49-8d90-30ca6ecd48a5",
   "metadata": {
    "tags": []
   },
   "outputs": [],
   "source": [
    "X_data,y_labels=make_classification(n_samples=1000,n_features=20,n_informative=2,n_classes=2,random_state=42)"
   ]
  },
  {
   "cell_type": "code",
   "execution_count": 32,
   "id": "8af9ddff-5d11-48d3-bd6d-d96498b3816f",
   "metadata": {
    "tags": []
   },
   "outputs": [],
   "source": [
    "X_train,X_test,y_train,y_test=train_test_split(X_data,y_labels,test_size=0.3,random_state=42)"
   ]
  },
  {
   "cell_type": "code",
   "execution_count": 33,
   "id": "e1859637-15eb-44a8-96de-86850d8cee8b",
   "metadata": {
    "tags": []
   },
   "outputs": [
    {
     "data": {
      "text/plain": [
       "KNeighborsClassifier(n_neighbors=3)"
      ]
     },
     "execution_count": 33,
     "metadata": {},
     "output_type": "execute_result"
    }
   ],
   "source": [
    "knn2=KNeighborsClassifier(n_neighbors=3)\n",
    "knn2.fit(X_train,y_train)"
   ]
  },
  {
   "cell_type": "code",
   "execution_count": 34,
   "id": "3cdda482-06e3-4478-bfe5-6d1d0380bc41",
   "metadata": {
    "tags": []
   },
   "outputs": [
    {
     "name": "stdout",
     "output_type": "stream",
     "text": [
      "[0 0 0 1 1 0 0 1 1 0 1 1 0 1 1 0 0 1 1 0 0 0 0 0 1 0 1 1 0 1 0 1 1 0 0 1 0\n",
      " 0 0 0 0 1 0 0 1 0 1 0 0 1 0 0 0 1 1 0 0 0 0 1 1 0 0 1 1 0 1 1 1 1 0 0 1 0\n",
      " 0 1 0 1 1 0 0 0 0 1 1 1 0 0 0 1 1 0 0 1 1 0 1 1 1 0 1 1 0 0 1 0 1 1 0 0 0\n",
      " 0 0 0 0 1 1 0 1 0 1 1 0 0 1 1 1 0 0 0 0 1 1 0 0 1 1 1 0 1 1 0 1 1 0 1 1 0\n",
      " 0 1 0 1 0 0 1 0 1 1 0 0 0 1 0 0 0 0 1 1 1 0 0 0 0 0 0 1 0 1 1 0 1 1 0 1 1\n",
      " 1 0 0 0 1 0 1 0 1 1 1 1 1 0 1 1 0 1 1 0 0 1 0 0 1 1 1 0 0 1 1 1 0 1 0 0 0\n",
      " 0 1 0 1 1 0 1 0 0 0 0 1 0 1 1 1 0 1 1 1 1 0 1 1 0 0 0 0 0 0 0 0 1 1 1 0 0\n",
      " 1 0 0 0 1 0 0 0 0 0 1 1 0 1 0 1 1 0 1 1 0 1 0 1 1 0 0 0 0 1 1 0 1 0 1 1 0\n",
      " 0 1 0 0]\n"
     ]
    }
   ],
   "source": [
    "y_pred3=knn2.predict(X_test)\n",
    "print(y_pred3)"
   ]
  },
  {
   "cell_type": "code",
   "execution_count": 35,
   "id": "d71a0250-88d2-4ec8-9d37-999f2f3bf26b",
   "metadata": {
    "tags": []
   },
   "outputs": [
    {
     "name": "stdout",
     "output_type": "stream",
     "text": [
      "[[121  24]\n",
      " [ 39 116]]\n"
     ]
    }
   ],
   "source": [
    "cm3=confusion_matrix(y_test,y_pred3)\n",
    "print(cm3)"
   ]
  },
  {
   "cell_type": "code",
   "execution_count": 36,
   "id": "92a803ea-8ff6-4a2f-ac59-92285ed1e80e",
   "metadata": {
    "tags": []
   },
   "outputs": [
    {
     "name": "stdout",
     "output_type": "stream",
     "text": [
      "0.79\n"
     ]
    }
   ],
   "source": [
    "accuracy3=accuracy_score(y_test,y_pred3)\n",
    "print(accuracy3)"
   ]
  },
  {
   "cell_type": "code",
   "execution_count": 38,
   "id": "7a313083-f3c3-4a25-8d19-f3d2d5bdb4c9",
   "metadata": {
    "tags": []
   },
   "outputs": [
    {
     "data": {
      "text/plain": [
       "DecisionTreeClassifier(random_state=42)"
      ]
     },
     "execution_count": 38,
     "metadata": {},
     "output_type": "execute_result"
    }
   ],
   "source": [
    "dt_classifier4=DecisionTreeClassifier(random_state=42)\n",
    "dt_classifier4.fit(X_train,y_train)"
   ]
  },
  {
   "cell_type": "code",
   "execution_count": 40,
   "id": "711072c9-230c-4692-b405-42f79be2d63e",
   "metadata": {
    "tags": []
   },
   "outputs": [
    {
     "name": "stdout",
     "output_type": "stream",
     "text": [
      "[1 1 0 1 1 0 0 1 1 0 1 1 0 1 0 0 0 1 1 0 1 1 0 1 1 0 1 0 0 1 1 1 1 0 0 0 0\n",
      " 0 0 0 0 1 0 1 1 0 1 0 1 1 0 0 0 1 1 1 0 0 1 0 1 0 0 1 1 0 1 1 1 0 0 1 0 0\n",
      " 0 1 0 1 1 1 0 0 0 1 1 1 0 0 0 0 1 0 0 0 0 0 0 0 1 1 1 1 0 0 1 0 1 1 0 0 0\n",
      " 0 0 0 0 1 1 0 1 1 1 1 0 0 1 1 1 0 1 1 0 1 1 0 1 1 1 1 0 1 0 0 0 1 0 1 1 0\n",
      " 0 1 1 1 1 0 1 0 1 1 0 0 0 1 1 0 1 1 1 1 1 0 0 0 0 0 0 1 1 1 1 0 1 1 0 1 0\n",
      " 1 0 0 0 1 0 1 0 1 0 1 1 1 0 1 1 0 1 1 1 0 1 0 0 1 1 1 1 0 1 0 1 0 1 0 0 0\n",
      " 0 1 0 1 1 1 1 1 1 0 0 1 1 1 0 1 1 1 1 1 1 0 1 0 0 0 0 0 0 1 0 0 1 1 1 0 0\n",
      " 0 0 0 1 1 1 0 1 0 0 0 1 0 1 0 1 1 0 0 0 0 1 0 1 1 0 1 1 0 0 1 0 1 0 1 1 0\n",
      " 0 1 0 1]\n"
     ]
    }
   ],
   "source": [
    "y_pred4=dt_classifier4.predict(X_test)\n",
    "print(y_pred4)"
   ]
  },
  {
   "cell_type": "code",
   "execution_count": 41,
   "id": "5230ddef-5b16-464c-bd67-e57849eb612b",
   "metadata": {
    "tags": []
   },
   "outputs": [
    {
     "name": "stdout",
     "output_type": "stream",
     "text": [
      "[[124  21]\n",
      " [ 22 133]]\n"
     ]
    }
   ],
   "source": [
    "cm4=confusion_matrix(y_test,y_pred4)\n",
    "print(cm4)"
   ]
  },
  {
   "cell_type": "code",
   "execution_count": 42,
   "id": "ce238c7c-5b9c-4485-ad96-086c6d4ef37e",
   "metadata": {
    "tags": []
   },
   "outputs": [
    {
     "name": "stdout",
     "output_type": "stream",
     "text": [
      "0.8566666666666667\n"
     ]
    }
   ],
   "source": [
    "accuracy4=accuracy_score(y_test,y_pred4)\n",
    "print(accuracy4)"
   ]
  },
  {
   "cell_type": "code",
   "execution_count": null,
   "id": "d8e68cc8-12c7-4ebd-afaf-5a9c57630c44",
   "metadata": {},
   "outputs": [],
   "source": [
    "#New                      #New                               #New                                    #New                             #New                          #New    "
   ]
  },
  {
   "cell_type": "code",
   "execution_count": null,
   "id": "06a02daa-95f0-446a-bb34-9b07e13dea17",
   "metadata": {},
   "outputs": [],
   "source": [
    "#New                      #New                               #New                                    #New                             #New                          #New    "
   ]
  },
  {
   "cell_type": "code",
   "execution_count": null,
   "id": "6ecd85f3-591b-4d6c-8a67-f5d2c5ff0ad4",
   "metadata": {
    "tags": []
   },
   "outputs": [],
   "source": []
  },
  {
   "cell_type": "code",
   "execution_count": null,
   "id": "990bb8b4-8b05-4cf7-8280-524211d144df",
   "metadata": {},
   "outputs": [],
   "source": []
  },
  {
   "cell_type": "code",
   "execution_count": null,
   "id": "9848553b-fa44-4bbe-ad48-ae78497391c8",
   "metadata": {},
   "outputs": [],
   "source": []
  },
  {
   "cell_type": "code",
   "execution_count": null,
   "id": "9e46484e-b364-4194-a2a3-7ddd4d0c8599",
   "metadata": {},
   "outputs": [],
   "source": []
  },
  {
   "cell_type": "code",
   "execution_count": null,
   "id": "8ebde5ba-8c27-4bd9-b2a6-bdd2168d3113",
   "metadata": {},
   "outputs": [],
   "source": [
    "#New                      #New                               #New                                    #New                             #New                          #New    "
   ]
  },
  {
   "cell_type": "code",
   "execution_count": null,
   "id": "a62e49e9-8d85-40d3-9a03-93bacc5cc5bf",
   "metadata": {},
   "outputs": [],
   "source": [
    "#New                      #New                               #New                                    #New                             #New                          #New    "
   ]
  },
  {
   "cell_type": "code",
   "execution_count": null,
   "id": "eb1d13a6-bbff-4b0c-a89b-b4af3d73213d",
   "metadata": {},
   "outputs": [],
   "source": [
    "#New                      #New                               #New                                    #New                             #New                          #New    "
   ]
  },
  {
   "cell_type": "code",
   "execution_count": null,
   "id": "62d89c17-8522-471f-8520-aa8a38de48b7",
   "metadata": {},
   "outputs": [],
   "source": []
  },
  {
   "cell_type": "code",
   "execution_count": null,
   "id": "e0d51d14-087e-4a38-895f-93be5d7ce81a",
   "metadata": {},
   "outputs": [],
   "source": []
  },
  {
   "cell_type": "code",
   "execution_count": null,
   "id": "b5c3e7de-f8e2-4ad4-8710-28098e2dfdcf",
   "metadata": {},
   "outputs": [],
   "source": []
  },
  {
   "cell_type": "code",
   "execution_count": 3,
   "id": "0737b7a2-b108-42e1-b6a2-c504a2ef9c74",
   "metadata": {
    "tags": []
   },
   "outputs": [
    {
     "name": "stdout",
     "output_type": "stream",
     "text": [
      "[[121  24]\n",
      " [ 39 116]]\n",
      "0.79\n",
      "[[124  21]\n",
      " [ 22 133]]\n",
      "0.8566666666666667\n"
     ]
    },
    {
     "data": {
      "text/plain": [
       "0.84"
      ]
     },
     "execution_count": 3,
     "metadata": {},
     "output_type": "execute_result"
    }
   ],
   "source": [
    "import numpy as np\n",
    "from sklearn.model_selection import train_test_split\n",
    "from sklearn.preprocessing import MinMaxScaler\n",
    "from sklearn.neighbors import KNeighborsClassifier\n",
    "from sklearn.metrics import confusion_matrix,accuracy_score\n",
    "from sklearn.datasets import make_classification\n",
    "from sklearn.tree import DecisionTreeClassifier\n",
    "from sklearn.ensemble import BaggingClassifier,StackingClassifier,VotingClassifier,GradientBoostingClassifier\n",
    "\n",
    "\n",
    "#1\n",
    "\n",
    "\n",
    "X_data,y_labels=make_classification(n_samples=1000,n_features=20,n_informative=2,n_classes=2,random_state=42)\n",
    "\n",
    "\n",
    "#2\n",
    "\n",
    "\n",
    "X_train,X_test,y_train,y_test=train_test_split(X_data,y_labels,test_size=0.3,random_state=42)\n",
    "\n",
    "#3\n",
    "\n",
    "knn=KNeighborsClassifier(n_neighbors=3)\n",
    "knn.fit(X_train,y_train)\n",
    "\n",
    "\n",
    "#4\n",
    "\n",
    "\n",
    "y_pred=knn.predict(X_test)\n",
    "\n",
    "\n",
    "\n",
    "#5\n",
    "\n",
    "\n",
    "cm2=confusion_matrix(y_test,y_pred)\n",
    "print(cm2)\n",
    "\n",
    "\n",
    "#6\n",
    "\n",
    "\n",
    "accuracy=accuracy_score(y_test,y_pred)\n",
    "print(accuracy)\n",
    "\n",
    "\n",
    "#7\n",
    "\n",
    "\n",
    "dt=DecisionTreeClassifier(random_state=42)\n",
    "dt.fit(X_train,y_train)\n",
    "\n",
    "\n",
    "#8\n",
    "\n",
    "\n",
    "y_pred2=dt_classifier.predict(X_test)\n",
    "\n",
    "\n",
    "\n",
    "#9\n",
    "\n",
    "\n",
    "cm=confusion_matrix(y_test,y_pred2)\n",
    "print(cm)\n",
    "\n",
    "\n",
    "#10\n",
    "\n",
    "\n",
    "accuracy2=accuracy_score(y_test,y_pred2)\n",
    "print(accuracy2)\n"
   ]
  },
  {
   "cell_type": "code",
   "execution_count": 4,
   "id": "ca6ae5ee-8978-4dbb-ae26-818f34853050",
   "metadata": {
    "tags": []
   },
   "outputs": [
    {
     "data": {
      "text/plain": [
       "0.84"
      ]
     },
     "execution_count": 4,
     "metadata": {},
     "output_type": "execute_result"
    }
   ],
   "source": [
    "bagging_model= BaggingClassifier(base_estimator=dt,n_estimators=10,random_state=42)\n",
    "bagging_model.fit(X_train,y_train)\n",
    "bagging_pred=bagging_model.predict(X_test)\n",
    "accuracy_score(y_test,bagging_pred)"
   ]
  },
  {
   "cell_type": "code",
   "execution_count": null,
   "id": "6eed0265-8a9d-484e-b360-4241afcf9401",
   "metadata": {},
   "outputs": [],
   "source": []
  },
  {
   "cell_type": "code",
   "execution_count": 5,
   "id": "dc81ea61-8d24-4dbe-9b6c-055a78b7d77b",
   "metadata": {
    "tags": []
   },
   "outputs": [
    {
     "data": {
      "text/plain": [
       "0.8566666666666667"
      ]
     },
     "execution_count": 5,
     "metadata": {},
     "output_type": "execute_result"
    }
   ],
   "source": [
    "stacking_model=StackingClassifier(estimators=[('knn',knn),('dt',dt)],final_estimator=KNeighborsClassifier())\n",
    "stacking_model.fit(X_train,y_train)\n",
    "stacking_pred=stacking_model.predict(X_test)\n",
    "accuracy_score(y_test,stacking_pred)"
   ]
  },
  {
   "cell_type": "code",
   "execution_count": 6,
   "id": "6a3aea92-3523-4437-9b57-a857d120baec",
   "metadata": {
    "tags": []
   },
   "outputs": [
    {
     "data": {
      "text/plain": [
       "0.87"
      ]
     },
     "execution_count": 6,
     "metadata": {},
     "output_type": "execute_result"
    }
   ],
   "source": [
    "boosting_model=GradientBoostingClassifier(n_estimators=100,random_state=42)\n",
    "boosting_model.fit(X_train,y_train)\n",
    "boosting_pred=boosting_model.predict(X_test)\n",
    "accuracy_score(y_test,boosting_pred)"
   ]
  },
  {
   "cell_type": "code",
   "execution_count": 7,
   "id": "87b889e2-75e9-412b-a2d2-a605c050951b",
   "metadata": {
    "tags": []
   },
   "outputs": [
    {
     "data": {
      "text/plain": [
       "0.84"
      ]
     },
     "execution_count": 7,
     "metadata": {},
     "output_type": "execute_result"
    }
   ],
   "source": [
    "voting_model=VotingClassifier(estimators=[('knn',knn),('dt',dt)],voting='hard')\n",
    "voting_model.fit(X_train,y_train)\n",
    "voting_pred=voting_model.predict(X_test)\n",
    "accuracy_score(y_test,voting_pred)"
   ]
  },
  {
   "cell_type": "code",
   "execution_count": null,
   "id": "c72c2ce9-46d5-43be-bb1b-0f832d266a2c",
   "metadata": {},
   "outputs": [],
   "source": []
  }
 ],
 "metadata": {
  "kernelspec": {
   "display_name": "Python 3 (ipykernel)",
   "language": "python",
   "name": "python3"
  },
  "language_info": {
   "codemirror_mode": {
    "name": "ipython",
    "version": 3
   },
   "file_extension": ".py",
   "mimetype": "text/x-python",
   "name": "python",
   "nbconvert_exporter": "python",
   "pygments_lexer": "ipython3",
   "version": "3.7.6"
  }
 },
 "nbformat": 4,
 "nbformat_minor": 5
}
